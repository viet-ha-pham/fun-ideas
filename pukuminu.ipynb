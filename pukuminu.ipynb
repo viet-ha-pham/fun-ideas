{
 "cells": [
  {
   "cell_type": "code",
   "execution_count": 1,
   "id": "0762ed83",
   "metadata": {},
   "outputs": [
    {
     "name": "stdout",
     "output_type": "stream",
     "text": [
      "Requirement already satisfied: underthesea in d:\\anaconda3\\lib\\site-packages (1.3.4)\n",
      "Requirement already satisfied: python-crfsuite>=0.9.6 in d:\\anaconda3\\lib\\site-packages (from underthesea) (0.9.8)\n",
      "Requirement already satisfied: requests in d:\\anaconda3\\lib\\site-packages (from underthesea) (2.27.1)\n",
      "Requirement already satisfied: PyYAML in d:\\anaconda3\\lib\\site-packages (from underthesea) (6.0)\n",
      "Requirement already satisfied: underthesea-core==0.0.4_alpha.10 in d:\\anaconda3\\lib\\site-packages (from underthesea) (0.0.4a10)\n",
      "Requirement already satisfied: tqdm in d:\\anaconda3\\lib\\site-packages (from underthesea) (4.64.0)\n",
      "Requirement already satisfied: scikit-learn in d:\\anaconda3\\lib\\site-packages (from underthesea) (1.0.2)\n",
      "Requirement already satisfied: Click>=6.0 in d:\\anaconda3\\lib\\site-packages (from underthesea) (8.0.4)\n",
      "Requirement already satisfied: unidecode in d:\\anaconda3\\lib\\site-packages (from underthesea) (1.2.0)\n",
      "Requirement already satisfied: nltk in d:\\anaconda3\\lib\\site-packages (from underthesea) (3.7)\n",
      "Requirement already satisfied: joblib in d:\\anaconda3\\lib\\site-packages (from underthesea) (1.1.0)\n",
      "Requirement already satisfied: colorama in d:\\anaconda3\\lib\\site-packages (from Click>=6.0->underthesea) (0.4.6)\n",
      "Requirement already satisfied: regex>=2021.8.3 in d:\\anaconda3\\lib\\site-packages (from nltk->underthesea) (2022.3.15)\n",
      "Requirement already satisfied: certifi>=2017.4.17 in d:\\anaconda3\\lib\\site-packages (from requests->underthesea) (2021.10.8)\n",
      "Requirement already satisfied: idna<4,>=2.5 in d:\\anaconda3\\lib\\site-packages (from requests->underthesea) (3.3)\n",
      "Requirement already satisfied: charset-normalizer~=2.0.0 in d:\\anaconda3\\lib\\site-packages (from requests->underthesea) (2.0.4)\n",
      "Requirement already satisfied: urllib3<1.27,>=1.21.1 in d:\\anaconda3\\lib\\site-packages (from requests->underthesea) (1.26.9)\n",
      "Requirement already satisfied: threadpoolctl>=2.0.0 in d:\\anaconda3\\lib\\site-packages (from scikit-learn->underthesea) (2.2.0)\n",
      "Requirement already satisfied: numpy>=1.14.6 in d:\\anaconda3\\lib\\site-packages (from scikit-learn->underthesea) (1.21.5)\n",
      "Requirement already satisfied: scipy>=1.1.0 in d:\\anaconda3\\lib\\site-packages (from scikit-learn->underthesea) (1.7.3)\n"
     ]
    }
   ],
   "source": [
    "!pip install underthesea"
   ]
  },
  {
   "cell_type": "code",
   "execution_count": 2,
   "id": "3574c8dd",
   "metadata": {},
   "outputs": [],
   "source": [
    "from underthesea import pos_tag"
   ]
  },
  {
   "cell_type": "code",
   "execution_count": 3,
   "id": "e1d8661b",
   "metadata": {},
   "outputs": [],
   "source": [
    "vowels_dict = {\n",
    "    \"a\":\"aàáảãạ\",\n",
    "    \"ă\":\"ăằắẳẵặ\",\n",
    "    \"â\":\"âầấẩẫậ\",\n",
    "    \"e\": \"eèéẻẽẹ\",\n",
    "    \"ê\": \"êềếểễệ\",\n",
    "    \"i\": \"iìíỉĩị\",\n",
    "    \"y\": \"yỳýỷỹỵ\",\n",
    "    \"o\": \"oòóỏõọ\",\n",
    "    \"ô\": \"ôồốổỗộ\",\n",
    "    \"ơ\": \"ơờớởỡợ\",\n",
    "    \"u\": \"uùúủũụ\",\n",
    "    \"ư\": \"ưừứửữự\"\n",
    "}\n",
    "\n",
    "vowels_string = \"\".join(vowels_dict.values())"
   ]
  },
  {
   "cell_type": "code",
   "execution_count": 4,
   "id": "120df122",
   "metadata": {},
   "outputs": [],
   "source": [
    "def split_word(word):\n",
    "    # Khởi tạo biến để lưu trữ các cụm ký tự được phân tách\n",
    "    chunks = []\n",
    "    \n",
    "    # Khởi tạo biến để lưu trữ cụm ký tự hiện tại\n",
    "    current_chunk = ''\n",
    "    \n",
    "    # Khởi tạo biến để kiểm tra xem ký tự hiện tại có phải là nguyên âm hay không\n",
    "    is_vowel = False\n",
    "    \n",
    "    # Lặp qua từng ký tự trong từ đầu vào\n",
    "    for char in word:\n",
    "        # Kiểm tra xem ký tự hiện tại có phải là nguyên âm hay không\n",
    "        if char.lower() in vowels_string:\n",
    "            # Nếu ký tự hiện tại là nguyên âm và cụm ký tự hiện tại chưa có phần tử nào thì thêm ký tự hiện tại vào cụm ký tự hiện tại\n",
    "            if not is_vowel and current_chunk != '':\n",
    "                chunks.append(current_chunk)\n",
    "                current_chunk = ''\n",
    "            is_vowel = True\n",
    "        else:\n",
    "            # Nếu ký tự hiện tại là phụ âm và cụm ký tự hiện tại chưa có phần tử nào thì thêm ký tự hiện tại vào cụm ký tự hiện tại\n",
    "            if is_vowel and current_chunk != '':\n",
    "                chunks.append(current_chunk)\n",
    "                current_chunk = ''\n",
    "            is_vowel = False\n",
    "        # Thêm ký tự hiện tại vào cụm ký tự hiện tại\n",
    "        current_chunk += char\n",
    "    # Thêm cụm ký tự hiện tại vào danh sách cụm ký tự nếu cụm ký tự hiện tại không rỗng\n",
    "    if current_chunk != '':\n",
    "        chunks.append(current_chunk)\n",
    "    \n",
    "    # Trả về danh sách các cụm ký tự đã phân tách\n",
    "    return chunks"
   ]
  },
  {
   "cell_type": "code",
   "execution_count": 5,
   "id": "9fc52882",
   "metadata": {},
   "outputs": [
    {
     "data": {
      "text/plain": [
       "['c', 'ô', 'ng']"
      ]
     },
     "execution_count": 5,
     "metadata": {},
     "output_type": "execute_result"
    }
   ],
   "source": [
    "split_word(\"công\")"
   ]
  },
  {
   "cell_type": "code",
   "execution_count": 6,
   "id": "61cee8c0",
   "metadata": {},
   "outputs": [
    {
     "data": {
      "text/plain": [
       "['l', 'ô', 'ng']"
      ]
     },
     "execution_count": 6,
     "metadata": {},
     "output_type": "execute_result"
    }
   ],
   "source": [
    "split_word(\"lông\")"
   ]
  },
  {
   "cell_type": "code",
   "execution_count": 7,
   "id": "09bebef8",
   "metadata": {},
   "outputs": [
    {
     "data": {
      "text/plain": [
       "['ô', 'ng']"
      ]
     },
     "execution_count": 7,
     "metadata": {},
     "output_type": "execute_result"
    }
   ],
   "source": [
    "split_word(\"ông\")"
   ]
  },
  {
   "cell_type": "code",
   "execution_count": 8,
   "id": "06920131",
   "metadata": {},
   "outputs": [
    {
     "data": {
      "text/plain": [
       "['n', 'ô']"
      ]
     },
     "execution_count": 8,
     "metadata": {},
     "output_type": "execute_result"
    }
   ],
   "source": [
    "split_word(\"nô\")"
   ]
  },
  {
   "cell_type": "code",
   "execution_count": 9,
   "id": "ba2e59f8",
   "metadata": {},
   "outputs": [
    {
     "data": {
      "text/plain": [
       "['ng', 'ô']"
      ]
     },
     "execution_count": 9,
     "metadata": {},
     "output_type": "execute_result"
    }
   ],
   "source": [
    "split_word(\"ngô\")"
   ]
  },
  {
   "cell_type": "code",
   "execution_count": 10,
   "id": "01dbf096",
   "metadata": {},
   "outputs": [],
   "source": [
    "def pukuminu_char(chr):\n",
    "    if chr.lower() in (vowels_dict['a'] + vowels_dict['ă'] + vowels_dict['â']):\n",
    "        return \"a\" if chr.islower() else \"A\"\n",
    "    if chr.lower() in (vowels_dict['e'] + vowels_dict['ê'] + vowels_dict['i'] + vowels_dict['y']):\n",
    "        return \"i\" if chr.islower() else \"I\"\n",
    "    if chr.lower() in (vowels_dict['o'] + vowels_dict['ô'] + vowels_dict['ơ'] + vowels_dict['u'] + vowels_dict['ư']):\n",
    "        return \"u\" if chr.islower() else \"U\"\n",
    "    if chr.lower() in \"cgkq\":\n",
    "        return \"k\" if chr.islower() else \"K\"\n",
    "    if chr.lower() in \"dsxjz\":\n",
    "        return \"s\" if chr.islower() else \"S\"\n",
    "    if chr.lower() in \"đt\":\n",
    "        return \"t\" if chr.islower() else \"T\"\n",
    "    if chr.lower() in \"m\":\n",
    "        return \"m\" if chr.islower() else \"M\"\n",
    "    if chr.lower() in \"lnr\":\n",
    "        return \"n\" if chr.islower() else \"N\"\n",
    "    if chr.lower() in \"bpvfw\":\n",
    "        return \"p\" if chr.islower() else \"P\"\n",
    "    if chr.lower() in \"h\":\n",
    "        return \"\"                                                                                                 \n",
    "    return chr                                                                                "
   ]
  },
  {
   "cell_type": "code",
   "execution_count": 11,
   "id": "d09f3f10",
   "metadata": {},
   "outputs": [
    {
     "data": {
      "text/plain": [
       "'p'"
      ]
     },
     "execution_count": 11,
     "metadata": {},
     "output_type": "execute_result"
    }
   ],
   "source": [
    "pukuminu_char(\"b\")"
   ]
  },
  {
   "cell_type": "code",
   "execution_count": 12,
   "id": "90cf4b7b",
   "metadata": {},
   "outputs": [],
   "source": [
    "def pukuminu_suffix(pos_tag):\n",
    "    if pos_tag == \"N\":\n",
    "        return \"u\"\n",
    "    if pos_tag == \"V\" or pos_tag == \"A\":\n",
    "        return \"a\"\n",
    "    \n",
    "    return \"i\""
   ]
  },
  {
   "cell_type": "code",
   "execution_count": 13,
   "id": "dc34d14a",
   "metadata": {},
   "outputs": [],
   "source": [
    "def pukuminu_word(word, pos_tag, keep_np=False):\n",
    "    word = word.replace(\"qu\",\"k\")\n",
    "    word = word.replace(\"gi\",\"s\")\n",
    "    if pos_tag == \"Np\" and keep_np:\n",
    "        return word\n",
    "    spl = word.split()\n",
    "    if len(spl) > 1:\n",
    "        return \"\".join([pukuminu_word(s,pos_tag) for s in spl])\n",
    "    chunks = split_word(word)\n",
    "    result = \"\".join([pukuminu_char(x[0]) for x in chunks ])\n",
    "    if result[-1] not in vowels_string and result[-1].isalpha():\n",
    "        suffix = pukuminu_suffix(pos_tag)\n",
    "        result += suffix\n",
    "    return result\n",
    "    "
   ]
  },
  {
   "cell_type": "code",
   "execution_count": 14,
   "id": "a010e93e",
   "metadata": {},
   "outputs": [
    {
     "data": {
      "text/plain": [
       "'kunu'"
      ]
     },
     "execution_count": 14,
     "metadata": {},
     "output_type": "execute_result"
    }
   ],
   "source": [
    "pukuminu_word(\"công\",\"N\")"
   ]
  },
  {
   "cell_type": "code",
   "execution_count": 15,
   "id": "5674b6ec",
   "metadata": {},
   "outputs": [
    {
     "data": {
      "text/plain": [
       "'pu'"
      ]
     },
     "execution_count": 15,
     "metadata": {},
     "output_type": "execute_result"
    }
   ],
   "source": [
    "pukuminu_word(\"phu\",'N')"
   ]
  },
  {
   "cell_type": "code",
   "execution_count": 16,
   "id": "9449e2ed",
   "metadata": {},
   "outputs": [
    {
     "data": {
      "text/plain": [
       "'kunuti'"
      ]
     },
     "execution_count": 16,
     "metadata": {},
     "output_type": "execute_result"
    }
   ],
   "source": [
    "pukuminu_word(\"công ty\",\"N\")"
   ]
  },
  {
   "cell_type": "code",
   "execution_count": 17,
   "id": "a055e75e",
   "metadata": {},
   "outputs": [],
   "source": [
    "sentence = \"Tôi tên là Việt Hà\""
   ]
  },
  {
   "cell_type": "code",
   "execution_count": 18,
   "id": "972c84e7",
   "metadata": {},
   "outputs": [],
   "source": [
    "words = pos_tag(sentence)"
   ]
  },
  {
   "cell_type": "code",
   "execution_count": 19,
   "id": "e8b94a9f",
   "metadata": {},
   "outputs": [],
   "source": [
    "trans_words = [ pukuminu_word(w, p) for w, p in words ]"
   ]
  },
  {
   "cell_type": "code",
   "execution_count": 20,
   "id": "e29326ef",
   "metadata": {},
   "outputs": [
    {
     "data": {
      "text/plain": [
       "'Tu tinu na Piti a'"
      ]
     },
     "execution_count": 20,
     "metadata": {},
     "output_type": "execute_result"
    }
   ],
   "source": [
    "\" \".join(trans_words)"
   ]
  },
  {
   "cell_type": "code",
   "execution_count": 21,
   "id": "bb352de8",
   "metadata": {},
   "outputs": [],
   "source": [
    "def pukuminu_setence(sentence):\n",
    "    words = pos_tag(sentence)\n",
    "    return \" \".join([ pukuminu_word(w, p) for w, p in words ])"
   ]
  },
  {
   "cell_type": "code",
   "execution_count": 22,
   "id": "9145e149",
   "metadata": {},
   "outputs": [],
   "source": [
    "poems = \"\"\"Muộn phiền thao thức đa mang chuyện Chức Nữ - Ngưu Lang\n",
    "Nhiều khi lòng xót xa tan giấc mơ hoa vàng.\n",
    "Ngóng trông tròn một năm\n",
    "Đến khi duyên phận cho ta thấy lại cố nhân bỗng nghe niềm đau giáng sinh bùng lên nghiệt ngã.\n",
    "Trái ngang vô cùng, sóng xô không dừng, xin một lời nói cạn lòng sông\n",
    "Nếu trên trời kia ngàn sao tắt hết cả đi thì cũng chính do anh thật muốn vậy.\n",
    "Một ngày trong tiết mưa mùa ngâu, ai biết đâu ta gặp gỡ đậm sâu.\n",
    "Người em nhỏ bé xinh như giấc mơ một lần.\n",
    "Giống hoa vàng ngày trước nhưng không thị phi và không sầu oán, nơi đây đã mang tên bến bình an.\n",
    "Cảm ơn vô vàn, đến đây khải hoàn trong một truyền thuyết của mùa mưa.\n",
    "Nếu trên trời kia ngàn sao tắt hết cả đi thì cũng chính do anh cần chi nữa.\"\"\""
   ]
  },
  {
   "cell_type": "code",
   "execution_count": 23,
   "id": "68e33356",
   "metadata": {},
   "outputs": [],
   "source": [
    "lines = poems.split(\"\\n\")"
   ]
  },
  {
   "cell_type": "code",
   "execution_count": 24,
   "id": "6da6955a",
   "metadata": {},
   "outputs": [
    {
     "name": "stdout",
     "output_type": "stream",
     "text": [
      "Muni pina tatuku tamana kunu KukiNu - Nu Nani\n",
      "Ni ki nunu sutasa tana saku mu u panu.\n",
      "Nunatuna tuna muti nami\n",
      "Tini ki sunapana ku ta ta na kunana puni ni nimu ta sanasina puna nina nitana.\n",
      "Ta nana pukuni , sunu su kuni suna , sina muti nunu kanununu sunu\n",
      "Ni tini tu ki nani sa tata iti ka ti ti kuni kini su ani tati muna pa.\n",
      "Muti na tuni titu mu mu na , a pitatata kapaku tama sa.\n",
      "Nu imu nupi sina nu saku mu muti nanu.\n",
      "Kina u panu natuku nuni kuni tipi pa kuni sauna , nu ta ta mana tinu pinu pinaana.\n",
      "Kamauna pupana , tina ta kauna tuni muti tunututu ku mu mu.\n",
      "Ni tini tu ki nani sa tata iti ka ti ti kuni kini su ani kana ki nu.\n"
     ]
    }
   ],
   "source": [
    "trans = \"\\n\".join([pukuminu_setence(l) for l in lines])\n",
    "trans = trans.replace(\" .\",\".\")\n",
    "print(trans)"
   ]
  }
 ],
 "metadata": {
  "kernelspec": {
   "display_name": "Python 3 (ipykernel)",
   "language": "python",
   "name": "python3"
  },
  "language_info": {
   "codemirror_mode": {
    "name": "ipython",
    "version": 3
   },
   "file_extension": ".py",
   "mimetype": "text/x-python",
   "name": "python",
   "nbconvert_exporter": "python",
   "pygments_lexer": "ipython3",
   "version": "3.9.12"
  }
 },
 "nbformat": 4,
 "nbformat_minor": 5
}
