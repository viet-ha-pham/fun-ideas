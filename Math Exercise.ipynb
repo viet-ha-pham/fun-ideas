{
 "cells": [
  {
   "cell_type": "code",
   "execution_count": 13,
   "id": "ec37f131",
   "metadata": {},
   "outputs": [],
   "source": [
    "import random\n",
    "from fractions import Fraction\n",
    "\n",
    "time = 100\n",
    "calculation = []\n",
    "\n",
    "while len(calculation) < time:\n",
    "    \n",
    "    # Sinh 2 số ngẫu nhiên từ 0 đến 99\n",
    "    num1 =  Fraction(random.randint(1, 10), random.randint(2, 10))\n",
    "    num2 = Fraction(random.randint(1, 10), random.randint(2, 10))\n",
    "\n",
    "    # Tính tổng 2 số\n",
    "    sums = num1 + num2\n",
    "    if num1.denominator  != 1 and num2.denominator  != 1:\n",
    "        calculation.append(f\"{num1} + {num2}\")\n",
    "        calculation.append(str(sums))"
   ]
  },
  {
   "cell_type": "code",
   "execution_count": 14,
   "id": "19492b94",
   "metadata": {},
   "outputs": [],
   "source": [
    "from pptx.oxml import parse_xml\n",
    "from pptx import Presentation\n",
    "import random\n",
    "from pptx.dml.color import RGBColor\n",
    "from moviepy.editor import VideoClip, ImageSequenceClip\n",
    "from pptx.util import Pt \n",
    "from pptx.enum.text import PP_ALIGN, MSO_ANCHOR\n",
    "title = \"Luyện tính cộng 2 phân số\"\n",
    "pr = Presentation()\n",
    "\n",
    "SLD_LAYOUT_BLANK = 6\n",
    "for i in range(len(calculation)):\n",
    "    slide = pr.slides.add_slide(pr.slide_layouts[SLD_LAYOUT_BLANK])\n",
    "    textbox = slide.shapes.add_textbox(0, 0, pr.slide_width,pr.slide_height)\n",
    "\n",
    "    # Thêm nội dung vào khung văn bản\n",
    "    textbox.text_frame.text = f\"{calculation[i]}\"\n",
    "\n",
    "    # Căn giữa văn bản trong khung văn bản\n",
    "    textbox.text_frame.paragraphs[0].alignment = PP_ALIGN.CENTER\n",
    "    \n",
    "    \n",
    "    slide.background.fill.solid()\n",
    "    slide.background.fill.fore_color.rgb = RGBColor(34,139,34)\n",
    "\n",
    "    # Thiết lập màu chữ cho tiêu đề của slide\n",
    "   \n",
    "    textbox.text_frame.vertical_anchor = MSO_ANCHOR.MIDDLE\n",
    "    textbox.text_frame.paragraphs[0].font.color.rgb = RGBColor(255, 255, 255)\n",
    "    textbox.text_frame.paragraphs[0].font.size = Pt(96)\n",
    "    \n",
    "    xml = '''\n",
    "      <mc:AlternateContent xmlns:mc=\"http://schemas.openxmlformats.org/markup-compatibility/2006\">\n",
    "    <mc:Choice xmlns:p14=\"http://schemas.microsoft.com/office/powerpoint/2010/main\" Requires=\"p14\">\n",
    "      <p:transition xmlns:p=\"http://schemas.openxmlformats.org/presentationml/2006/main\" spd=\"fast\" p14:dur=\"1000\">\n",
    "        <p14:ripple />\n",
    "      </p:transition>\n",
    "    </mc:Choice>\n",
    "    <mc:Fallback>\n",
    "      <p:transition xmlns:p=\"http://schemas.openxmlformats.org/presentationml/2006/main\" spd=\"slow\">\n",
    "        <p:push />\n",
    "      </p:transition>\n",
    "    </mc:Fallback>\n",
    "  </mc:AlternateContent>\n",
    "   '''\n",
    "    xmlFragment = parse_xml(xml)\n",
    "    slide.element.insert(-1, xmlFragment)\n",
    "\n",
    "\n",
    "    \n",
    "pr.save(f\"{title}.pptx\")\n"
   ]
  },
  {
   "cell_type": "code",
   "execution_count": null,
   "id": "1c67d718",
   "metadata": {},
   "outputs": [],
   "source": []
  },
  {
   "cell_type": "code",
   "execution_count": null,
   "id": "3b476b31",
   "metadata": {},
   "outputs": [],
   "source": []
  }
 ],
 "metadata": {
  "kernelspec": {
   "display_name": "Python 3 (ipykernel)",
   "language": "python",
   "name": "python3"
  },
  "language_info": {
   "codemirror_mode": {
    "name": "ipython",
    "version": 3
   },
   "file_extension": ".py",
   "mimetype": "text/x-python",
   "name": "python",
   "nbconvert_exporter": "python",
   "pygments_lexer": "ipython3",
   "version": "3.9.12"
  }
 },
 "nbformat": 4,
 "nbformat_minor": 5
}
