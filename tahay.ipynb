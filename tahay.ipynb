{
 "cells": [
  {
   "cell_type": "code",
   "execution_count": 1,
   "id": "b4d5881a",
   "metadata": {},
   "outputs": [
    {
     "name": "stdout",
     "output_type": "stream",
     "text": [
      "Requirement already satisfied: chiecthuyenngoaixa in d:\\anaconda3\\lib\\site-packages (0.1.2)\n"
     ]
    }
   ],
   "source": [
    "!pip install chiecthuyenngoaixa"
   ]
  },
  {
   "cell_type": "code",
   "execution_count": 2,
   "id": "b9764058",
   "metadata": {},
   "outputs": [],
   "source": [
    "import ctnx\n",
    "import re"
   ]
  },
  {
   "cell_type": "code",
   "execution_count": 3,
   "id": "d3bb8a5f",
   "metadata": {},
   "outputs": [],
   "source": [
    "def remove_dup_chars(word):\n",
    "    result = \"\"\n",
    "    for char in word:\n",
    "        if char not in result:\n",
    "            result += char\n",
    "    return result"
   ]
  },
  {
   "cell_type": "code",
   "execution_count": 4,
   "id": "5860a89d",
   "metadata": {},
   "outputs": [],
   "source": [
    "def first_vowel(word):\n",
    "    match = re.search(\"[aiouy]\", word, flags=re.IGNORECASE)\n",
    "    return match.group() if match else \"u\""
   ]
  },
  {
   "cell_type": "code",
   "execution_count": 5,
   "id": "10192748",
   "metadata": {},
   "outputs": [],
   "source": [
    "def insert_vowel(word):\n",
    "    if len(word) < 2:\n",
    "        return word + \"u\"\n",
    "    \n",
    "    vowel_to_insert = first_vowel(word)\n",
    "    result = \"\"\n",
    "    consonants = \"bdfghjklmnpqrstvwxz\"\n",
    "    consonants += consonants.upper()\n",
    "    for i in range(len(word)):\n",
    "        if i == 0 or word[i] not in consonants:\n",
    "            result += word[i]\n",
    "        elif word[i] in consonants and word[i-1] in consonants:\n",
    "            result += vowel_to_insert + word[i]\n",
    "        else:\n",
    "            result += word[i]\n",
    "    \n",
    "    return result"
   ]
  },
  {
   "cell_type": "code",
   "execution_count": 6,
   "id": "6dc7ae0b",
   "metadata": {},
   "outputs": [],
   "source": [
    "def add_diacritics(word):\n",
    "    match = re.search(r\"([aiouy])([ht])$\", word, flags=re.IGNORECASE)\n",
    "    if not match:\n",
    "        return word\n",
    "    \n",
    "    diacritics = {\"a\":\"áạ\", \"i\":\"íị\", \"o\":\"óọ\", \"u\":\"úụ\", \"y\":\"ýỵ\"}\n",
    "    dia = 0\n",
    "    if match.group(2) == \"t\":\n",
    "        dia = 1\n",
    "        \n",
    "    return word[:match.span(1)[0]] + diacritics[match.group(1)][dia]"
   ]
  },
  {
   "cell_type": "code",
   "execution_count": 7,
   "id": "db6b22e5",
   "metadata": {},
   "outputs": [],
   "source": [
    "def normalize(word):\n",
    "    result = re.sub(r\"(uo|wo)\",\"ua\", word, flags=re.IGNORECASE)\n",
    "    result = re.sub(r\"(ou|ow)\",\"âu\", result, flags=re.IGNORECASE)\n",
    "    return result"
   ]
  },
  {
   "cell_type": "code",
   "execution_count": 8,
   "id": "e24c69db",
   "metadata": {},
   "outputs": [],
   "source": [
    "def tahay_word(word):\n",
    "    word = ctnx.remove_diacritics(word)\n",
    "    en_alphabet_lower = \"abcdefghijklmnopqrstuvwxyz\"\n",
    "    en_alphabet_upper = en_alphabet_lower.upper()\n",
    "    en_alphabet = en_alphabet_lower + en_alphabet_upper\n",
    "    tahay_alphabet_lower = \"ahhhhhhhimmmmtotthttuvwxyh\"\n",
    "    tahay_alphabet_upper = tahay_alphabet_lower.upper()\n",
    "    tahay_alphabet = tahay_alphabet_lower + tahay_alphabet_upper\n",
    "    trans = str.maketrans(en_alphabet, tahay_alphabet)\n",
    "    return normalize(add_diacritics(insert_vowel(remove_dup_chars(word.translate(trans)))))"
   ]
  },
  {
   "cell_type": "code",
   "execution_count": 9,
   "id": "bce900de",
   "metadata": {},
   "outputs": [],
   "source": [
    "def tahay(txt):\n",
    "    words = txt.split()\n",
    "    return \" \".join([ tahay_word(w) for w in words])"
   ]
  },
  {
   "cell_type": "code",
   "execution_count": 10,
   "id": "53795b0d",
   "metadata": {},
   "outputs": [
    {
     "data": {
      "text/plain": [
       "'Ham họ tí ví ma vạ hu hị hạ maha tuhu.'"
      ]
     },
     "execution_count": 10,
     "metadata": {},
     "output_type": "execute_result"
    }
   ],
   "source": [
    "txt = \"Ham công tiếc việc là vấn đề chính cần khắc phục.\"\n",
    "tahay(txt)"
   ]
  },
  {
   "cell_type": "code",
   "execution_count": 11,
   "id": "e58ec071",
   "metadata": {},
   "outputs": [
    {
     "data": {
      "text/plain": [
       "\"To mó hamạ atá tú hiuamị á tohâu. Hú wú á mú atá yâu, himị mọ atá himị humu. It' tú hụ ó tú tahy atá tú mohoti tuhum to hy, to utumí yhyta.\""
      ]
     },
     "execution_count": 11,
     "metadata": {},
     "output_type": "execute_result"
    }
   ],
   "source": [
    "txt = \"\"\"No more champagne and the fireworks are through.\n",
    "Here we are me and you, feeling lost and feeling blue.\n",
    "It's the end of the party and the morning seems so grey, so unlike yesterday.\"\"\"\n",
    "tahay(txt)"
   ]
  }
 ],
 "metadata": {
  "kernelspec": {
   "display_name": "Python 3 (ipykernel)",
   "language": "python",
   "name": "python3"
  },
  "language_info": {
   "codemirror_mode": {
    "name": "ipython",
    "version": 3
   },
   "file_extension": ".py",
   "mimetype": "text/x-python",
   "name": "python",
   "nbconvert_exporter": "python",
   "pygments_lexer": "ipython3",
   "version": "3.9.12"
  }
 },
 "nbformat": 4,
 "nbformat_minor": 5
}
