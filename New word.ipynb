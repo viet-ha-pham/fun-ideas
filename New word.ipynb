{
 "cells": [
  {
   "cell_type": "code",
   "execution_count": 7,
   "id": "17c1a517",
   "metadata": {},
   "outputs": [],
   "source": [
    "def reverse_and_merge_strings(str1, str2):\n",
    "    # Đảo ngược hai chuỗi\n",
    "    rev_str1 = str1[::-1]\n",
    "    rev_str2 = str2[::-1]\n",
    "\n",
    "    # Tìm vị trí của ký tự chung đầu tiên\n",
    "    common_index = None\n",
    "    for i in range(len(rev_str2)):\n",
    "        for j in range(len(rev_str1)):\n",
    "            if rev_str2[i] == rev_str1[j]:\n",
    "                common_index = (i,j)\n",
    "                break\n",
    "                \n",
    "    # Ghép hai chuỗi đã đảo ngược vào nhau ở vị trí ký tự chung hoặc cuối chuỗi\n",
    "    if common_index == None:\n",
    "        return rev_str2 + rev_str1\n",
    "    else:\n",
    "        return rev_str2[:common_index[0]] + rev_str1[common_index[1]:]"
   ]
  },
  {
   "cell_type": "code",
   "execution_count": 8,
   "id": "4b194459",
   "metadata": {},
   "outputs": [
    {
     "data": {
      "text/plain": [
       "'tekrepus'"
      ]
     },
     "execution_count": 8,
     "metadata": {},
     "output_type": "execute_result"
    }
   ],
   "source": [
    "reverse_and_merge_strings(\"super\",\"market\")"
   ]
  },
  {
   "cell_type": "code",
   "execution_count": 9,
   "id": "ab3c019b",
   "metadata": {},
   "outputs": [
    {
     "data": {
      "text/plain": [
       "'sisylanatad'"
      ]
     },
     "execution_count": 9,
     "metadata": {},
     "output_type": "execute_result"
    }
   ],
   "source": [
    "reverse_and_merge_strings(\"data\",\"analysis\")"
   ]
  },
  {
   "cell_type": "code",
   "execution_count": 14,
   "id": "b873c25b",
   "metadata": {},
   "outputs": [],
   "source": [
    "s = \"sisylanatad\".upper()"
   ]
  },
  {
   "cell_type": "code",
   "execution_count": 16,
   "id": "e9aa25b6",
   "metadata": {},
   "outputs": [
    {
     "data": {
      "text/plain": [
       "'עטערכאםאףאד'"
      ]
     },
     "execution_count": 16,
     "metadata": {},
     "output_type": "execute_result"
    }
   ],
   "source": [
    "\"\".join([chr(ord(c)+1423) for c in s ])"
   ]
  },
  {
   "cell_type": "code",
   "execution_count": null,
   "id": "7072afd2",
   "metadata": {},
   "outputs": [],
   "source": []
  }
 ],
 "metadata": {
  "kernelspec": {
   "display_name": "Python 3 (ipykernel)",
   "language": "python",
   "name": "python3"
  },
  "language_info": {
   "codemirror_mode": {
    "name": "ipython",
    "version": 3
   },
   "file_extension": ".py",
   "mimetype": "text/x-python",
   "name": "python",
   "nbconvert_exporter": "python",
   "pygments_lexer": "ipython3",
   "version": "3.9.12"
  }
 },
 "nbformat": 4,
 "nbformat_minor": 5
}
